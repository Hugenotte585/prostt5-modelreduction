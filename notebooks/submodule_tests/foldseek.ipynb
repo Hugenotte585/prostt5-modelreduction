{
 "cells": [
  {
   "cell_type": "markdown",
   "metadata": {},
   "source": [
    "### Tests functionality of foldseek\n",
    "\n",
    "Basically tests if we can get a 3Di representation."
   ]
  },
  {
   "cell_type": "code",
   "execution_count": 19,
   "metadata": {},
   "outputs": [],
   "source": [
    "import os"
   ]
  },
  {
   "cell_type": "code",
   "execution_count": null,
   "metadata": {},
   "outputs": [],
   "source": [
    "data_dir = \"../../data\"\n",
    "foldseek_bin = \"../../libs/foldseek/bin/foldseek\""
   ]
  },
  {
   "cell_type": "code",
   "execution_count": null,
   "metadata": {},
   "outputs": [
    {
     "name": "stdout",
     "output_type": "stream",
     "text": [
      "createdb ../../data/afdb/A0A6G0XC32 ../../data/afdb/A0A6G0XC32/queryDB \n",
      "\n",
      "MMseqs Version:             \td2d09b588f50d5f8e2fd7a958377a33b2f725415\n",
      "Path to ProstT5             \t\n",
      "Chain name mode             \t0\n",
      "Createdb extraction mode    \t0\n",
      "Interface distance threshold\t8\n",
      "Write mapping file          \t0\n",
      "Mask b-factor threshold     \t0\n",
      "Coord store mode            \t2\n",
      "Write lookup file           \t1\n",
      "Input format                \t0\n",
      "File Inclusion Regex        \t.*\n",
      "File Exclusion Regex        \t^$\n",
      "Threads                     \t12\n",
      "Verbosity                   \t3\n",
      "\n",
      "Output file: ../../data/afdb/A0A6G0XC32/queryDB\n",
      "[=================================================================] 100.00% 1 eta -\n",
      "Time for merging to queryDB_ss: 0h 0m 0s 2ms\n",
      "Time for merging to queryDB_h: 0h 0m 0s 1ms\n",
      "Time for merging to queryDB_ca: 0h 0m 0s 2ms\n",
      "Time for merging to queryDB: 0h 0m 0s 1ms\n",
      "Ignore 0 out of 1.\n",
      "Too short: 0, incorrect: 0, not proteins: 0.\n",
      "Time for processing: 0h 0m 0s 22ms\n",
      "lndb ../../data/afdb/A0A6G0XC32/queryDB_h ../../data/afdb/A0A6G0XC32/queryDB_ss_h \n",
      "\n",
      "MMseqs Version:\td2d09b588f50d5f8e2fd7a958377a33b2f725415\n",
      "Verbosity\t3\n",
      "\n",
      "Time for processing: 0h 0m 0s 0ms\n",
      "convert2fasta ../../data/afdb/A0A6G0XC32/queryDB_ss ../../data/afdb/A0A6G0XC32/queryDB_ss.fasta \n",
      "\n",
      "MMseqs Version:\td2d09b588f50d5f8e2fd7a958377a33b2f725415\n",
      "Use header DB\tfalse\n",
      "Verbosity    \t3\n",
      "\n",
      "Start writing file to ../../data/afdb/A0A6G0XC32/queryDB_ss.fasta\n",
      "Time for processing: 0h 0m 0s 0ms\n"
     ]
    }
   ],
   "source": [
    "query_ID = 'A0A6G0XC32' \n",
    "result_dir = f\"{data_dir}/afdb/{query_ID}\"\n",
    "\n",
    "# if result dir exists -> code will fail\n",
    "overwrite = False\n",
    "result_dir_exists = os.path.exists(result_dir)\n",
    "if result_dir_exists and not overwrite:\n",
    "    print(f\"Error: {result_dir} already exists\")\n",
    "    exit(-1)\n",
    "elif result_dir_exists and overwrite:\n",
    "    print(f\"Warning: {result_dir} already exists, but will be overwritten\")\n",
    "    !rm -rf {result_dir}\n",
    "\n",
    "# Create result directory\n",
    "!mkdir -p {result_dir}\n",
    "!wget -q -O {result_dir}/AF-{query_ID}-F1-model_v4.pdb https://alphafold.ebi.ac.uk/files/AF-{query_ID}-F1-model_v4.pdb\n",
    "\n",
    "# Foldseek usage\n",
    "!{foldseek_bin} createdb {result_dir} {result_dir}/queryDB\n",
    "!{foldseek_bin} lndb {result_dir}/queryDB_h {result_dir}/queryDB_ss_h # not sure why we need a symlink\n",
    "!{foldseek_bin} convert2fasta {result_dir}/queryDB_ss {result_dir}/queryDB_ss.fasta"
   ]
  },
  {
   "cell_type": "markdown",
   "metadata": {},
   "source": [
    "## Resulting 3Di "
   ]
  },
  {
   "cell_type": "code",
   "execution_count": 16,
   "metadata": {},
   "outputs": [
    {
     "name": "stdout",
     "output_type": "stream",
     "text": [
      ">AF-A0A6G0XC32-F1-model_v4 ALPHAFOLD MONOMER V2.0 PREDICTION FOR UNCHARACTERIZED PROTEIN (A0A6G0XC32)\n",
      "DDFDAEDEPACCCPDQEDADAGARHQYYHHANVQNHAADAYNYQNHQYYEPENHANHQLVRHLVNHDHQNHAYYEHALHHHPDDDPLVSLLVNLQSHQNHQHYEHALPQAELSSVVSCLPSNPNHQEYEYEDAPPRPPHHHHDDPVSVVVSCVVVVSHDYDYD\n"
     ]
    }
   ],
   "source": [
    "!cat {result_dir}/queryDB_ss.fasta"
   ]
  },
  {
   "cell_type": "code",
   "execution_count": null,
   "metadata": {},
   "outputs": [],
   "source": []
  }
 ],
 "metadata": {
  "kernelspec": {
   "display_name": "env",
   "language": "python",
   "name": "python3"
  },
  "language_info": {
   "codemirror_mode": {
    "name": "ipython",
    "version": 3
   },
   "file_extension": ".py",
   "mimetype": "text/x-python",
   "name": "python",
   "nbconvert_exporter": "python",
   "pygments_lexer": "ipython3",
   "version": "3.10.12"
  }
 },
 "nbformat": 4,
 "nbformat_minor": 2
}
